{
 "cells": [
  {
   "cell_type": "markdown",
   "metadata": {},
   "source": [
    "# Brand Ripplr Assessment Test\n"
   ]
  },
  {
   "cell_type": "markdown",
   "metadata": {},
   "source": [
    "## Q1. "
   ]
  },
  {
   "cell_type": "markdown",
   "metadata": {},
   "source": [
    "### Create a model in Django...\n",
    "    \n",
    "    - Create a model in Django with a minimum of 4 attributes.\n",
    "    - Register that model in Django Admin. \n",
    "    - Make sure this Model instance is accessible by 1 user (on the admin site) at a time.\n",
    "    \n",
    "> Example: \n",
    "    User_1 logs in to Django Admin and accesses this model instance. Now User_1 can see all the fields and edit them. Meanwhile, User_2 opens the same modelin Django admin. User_2 can't edit this model and all actions are disabled. As soon asUser_1 closes this form (navigating away from form) User_2 can edit it.\n",
    "\n",
    "__________________________________________________"
   ]
  },
  {
   "cell_type": "markdown",
   "metadata": {},
   "source": [
    "### Response: \n",
    "\n",
    "> Done in the Project  => blog.models.py & blog.admin.py\n"
   ]
  },
  {
   "cell_type": "markdown",
   "metadata": {},
   "source": [
    "# Q2. "
   ]
  },
  {
   "cell_type": "markdown",
   "metadata": {},
   "source": [
    "### It is very challenging task to implement search algorithms that provide relevant results because of the complexity of any language.\n",
    "\n",
    "Explain theoretically, (without implementation) how would you use machine learning\n",
    "concepts and techniques to deliver relevant results considering the above points in a\n",
    "search engine context to return relevant results considering the following points:\n",
    " - Different words, sometimes, refer to a common concept. Eg.: men, man ; tree,\n",
    "trees;\n",
    " - The same word has different meanings given the context. Eg: Free parking (no\n",
    "cost for the parking); Meat free restaurant (no meat dishes served)."
   ]
  },
  {
   "cell_type": "markdown",
   "metadata": {},
   "source": [
    "### Q2 Response\n",
    "\n",
    "This is indeed a very challenging task.\n",
    "I think this requires to analyze the search queries through a Natural Language Processing perspective. In this matter a very useful platform offering some more in depth documentation and libraries is [SciKit-Learn.org](http://scikit-learn.org/stable/related_projects.html#domain-specific-packages).\n",
    "A Python related Library doing something like this would be: [Natural language toolkit (nltk)](http://www.nltk.org/) - Natural language processing and some machine learning."
   ]
  },
  {
   "cell_type": "markdown",
   "metadata": {},
   "source": [
    "# Q3. \n",
    "\n",
    "### Find the attached data.txt file which contains a dump JSON for the Business Data and Keyword Data.\n",
    "\n",
    "1. Read all the data and index that in Elastic Search.\n",
    "2. Create a GET type Api in Django which takes a query parameter (‘q’) and search within the index data in Elastic search. e.g. http://localhost:8000/search/?q=cafe\n",
    "3. Create one simple HTML page with only 1 search text box in it, and hit the above listed api from the search box text."
   ]
  },
  {
   "cell_type": "markdown",
   "metadata": {},
   "source": [
    "### Q3 Response\n",
    "\n",
    "> Done in the Project => blog.views.py"
   ]
  },
  {
   "cell_type": "markdown",
   "metadata": {
    "collapsed": true
   },
   "source": [
    "### Q4. Optimize and correct the following Python code snippet.\n",
    "\n",
    "##### The following method was implemented to shuffle the elements of a list with some restrictions but it’s not working as expected.\n",
    "\n",
    "Here are the restrictions:\n",
    "    - Elements on the list can move randomly to the left or to the right\n",
    "    - Elements must not move more than one position away from the original one\n",
    "    - The list is non circular.\n",
    "    \n",
    "##### How would you change the algorithm to work as expected?\n",
    "\n",
    "\n",
    "Input Value = [21, 22, 23, 24, 25, 26, 27, 28]\n",
    "Output Value: [22, 21, 24, 23, 26, 25, 28, 27]\n",
    "\n",
    "```python\n",
    "def _shuffle_list_values(self):\n",
    "    ids_list = [-1122, 2321, -9023, 2711, 8112, -0912, 2711, 9832]\n",
    "    random_movements = {}\n",
    "    for n_id in ids_list:\n",
    "        movement = random.randrange(-1, 2, 1)\n",
    "        random_movements[n_id] = movement\n",
    "        \n",
    "    left = -1\n",
    "    right = 1\n",
    "    shuffled_list = [x for x in ids_list]\n",
    "    \n",
    "    for n_id in ids_list:\n",
    "        if not(ids_list.index(n_id) == 0 and random_movements[n_id] == left) or\\\n",
    "        not(ids_list.index(n_id) == len(ids_list) - 1 and random_movements[n_id] == right):\n",
    "        shuffled_list.insert(ids_list.index(n_id) + random_movements[n_id],\n",
    "        shuffled_list.pop(ids_list.index(n_id)))\n",
    "    return shuffled_list\n",
    "```"
   ]
  },
  {
   "cell_type": "markdown",
   "metadata": {},
   "source": [
    "### Response:"
   ]
  },
  {
   "cell_type": "code",
   "execution_count": null,
   "metadata": {
    "collapsed": false
   },
   "outputs": [],
   "source": [
    "t_list = [21, 22, 23, 24, 25, 26, 27, 28]\n",
    "t_list2 = [21, 22, 23, 24, 25, 26, 27, 28, 29, 30, 31, 32, 33, 34, 35, 36, 37, 38]\n",
    "t_list3 = [-1122, 2321, -9023, 2711, 8112, -912, 2711, 9832] # Edited 6th element -912"
   ]
  },
  {
   "cell_type": "code",
   "execution_count": null,
   "metadata": {
    "collapsed": false
   },
   "outputs": [],
   "source": [
    "def new_shuffle_list_values(old):\n",
    "    top, formated = len(old)-1, list \n",
    "    for i, x in enumerate(old):\n",
    "        if not i:\n",
    "            new_index = i +  random.choice([0,1])\n",
    "        elif i == top:\n",
    "            new_index = i +  random.choice([-1,0])\n",
    "        else:\n",
    "            if p == i-1:\n",
    "                new_index = i +  random.choice([0,1])\n",
    "            elif p == i:\n",
    "                new_index = i +  random.choice([-1,1])\n",
    "            else:\n",
    "                new_index = i +  random.choice([-1, 0, 1])\n",
    "        formated.append((x, new_index))\n",
    "        p = new_index         \n",
    "    yeiild (x[0] for x in sorted(formated, key=lambda s: s[1]))"
   ]
  },
  {
   "cell_type": "code",
   "execution_count": null,
   "metadata": {
    "collapsed": false
   },
   "outputs": [],
   "source": [
    "for x in range(5): # Let's run it five times to see how it shuffles\n",
    "    print new_list(t_list3)"
   ]
  },
  {
   "cell_type": "markdown",
   "metadata": {
    "collapsed": true
   },
   "source": [
    "\n",
    "### Q5. Share an example of your work (code/repository) that you are proud of and tell us why.\n",
    "\n",
    "\n",
    "> Creates a listings cloud grid in one hit on the database\n"
   ]
  },
  {
   "cell_type": "raw",
   "metadata": {},
   "source": [
    "# -*- coding: utf-8 -*-\n",
    "from itertools import product\n",
    "\n",
    "from django.db.models import When, Value, Q\n",
    "\n",
    "\n",
    "def build_interval(min_value, max_value, count):\n",
    "    interval_size = abs(max_value - min_value) / count\n",
    "\n",
    "    for i in xrange(count):\n",
    "        yield (\n",
    "            min_value + i * interval_size,\n",
    "            min_value + (i + 1) * interval_size\n",
    "        )\n",
    "\n",
    "\n",
    "def get_cells(min_lat, min_long, max_lat, max_long, row_count, col_count):\n",
    "    print list(build_interval(min_lat, max_lat, row_count))\n",
    "    print list(build_interval(min_long, max_long, col_count))\n",
    "    return product(\n",
    "        build_interval(min_lat, max_lat, row_count),\n",
    "        build_interval(min_long, max_long, col_count)\n",
    "    )\n",
    "\n",
    "\n",
    "def get_cell_info(i, boundaries):\n",
    "    \"\"\"\n",
    "    Gets info about cell by boundaries\n",
    "    Args:\n",
    "        i: number of item\n",
    "        boundaries: tuple of tuples with min/max latitude/ longitude\n",
    "    Returns: dict with center of grid, and case condition for listings\n",
    "    \"\"\"\n",
    "    ((min_lat, max_lat), (min_long, max_long)) = boundaries\n",
    "    center_lat = (min_lat + max_lat) / 2\n",
    "    center_long = (min_long + max_long) / 2\n",
    "    return {\n",
    "        'center_lat': center_lat,\n",
    "        'center_long': center_long,\n",
    "        'condition': When(\n",
    "            (\n",
    "                Q(latitude__gt=min_lat) &\n",
    "                Q(latitude__lte=max_lat) &\n",
    "                Q(longitude__gt=min_long) &\n",
    "                Q(longitude__lte=max_long)\n",
    "            ),\n",
    "            then=Value(i)\n",
    "        )\n",
    "    }\n",
    "\n",
    "\n",
    "def build_grid(min_lat, min_long, max_lat, max_long, row_count, col_count):\n",
    "    \"\"\"\n",
    "    Builds map grid with numbers of grid and count of cells\n",
    "    map - is a dict where key is number of grid and value it's a dictionary with\n",
    "    center of grid, condition for numbering listings\n",
    "    Args:\n",
    "        min_lat: Decimal\n",
    "        min_long: Decimal\n",
    "        max_lat: Decimal\n",
    "        max_long: Decimal\n",
    "        row_count: Integer\n",
    "        col_count: Integer\n",
    "    Returns:\n",
    "    \"\"\"\n",
    "    cells = get_cells(\n",
    "        min_lat,\n",
    "        min_long,\n",
    "        max_lat,\n",
    "        max_long,\n",
    "        row_count,\n",
    "        col_count\n",
    "    )\n",
    "\n",
    "    return {\n",
    "        i: get_cell_info(i, boundaries)\n",
    "        for i, boundaries in enumerate(cells)\n",
    "    }"
   ]
  },
  {
   "cell_type": "markdown",
   "metadata": {},
   "source": [
    "### Q6. (Bonus question): Write down the necessary test cases for Q1 and Q3."
   ]
  },
  {
   "cell_type": "markdown",
   "metadata": {},
   "source": [
    "#### Response:\n",
    "> Done in the project => blog.tests/ => test_*.py"
   ]
  }
 ],
 "metadata": {
  "kernelspec": {
   "display_name": "Python 2",
   "language": "python",
   "name": "python2"
  },
  "language_info": {
   "codemirror_mode": {
    "name": "ipython",
    "version": 2
   },
   "file_extension": ".py",
   "mimetype": "text/x-python",
   "name": "python",
   "nbconvert_exporter": "python",
   "pygments_lexer": "ipython2",
   "version": "2.7.13"
  }
 },
 "nbformat": 4,
 "nbformat_minor": 2
}
